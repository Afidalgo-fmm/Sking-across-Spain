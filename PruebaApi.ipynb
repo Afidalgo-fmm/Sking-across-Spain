{
 "cells": [
  {
   "cell_type": "code",
   "execution_count": 29,
   "id": "b60cf61f",
   "metadata": {},
   "outputs": [],
   "source": [
    "import requests \n",
    "import json\n",
    "import os\n",
    "from dotenv import load_dotenv\n",
    "import pandas as pd\n",
    "from pandas import json_normalize\n",
    "#import pyjsonviewer\n",
    "import folium\n",
    "from folium import Choropleth, Circle, Marker, Icon, Map\n",
    "from folium.plugins import HeatMap, MarkerCluster"
   ]
  },
  {
   "cell_type": "code",
   "execution_count": 30,
   "id": "734c5a12",
   "metadata": {},
   "outputs": [
    {
     "data": {
      "text/plain": [
       "True"
      ]
     },
     "execution_count": 30,
     "metadata": {},
     "output_type": "execute_result"
    }
   ],
   "source": [
    "load_dotenv()"
   ]
  },
  {
   "cell_type": "code",
   "execution_count": 31,
   "id": "bc5fbee2",
   "metadata": {},
   "outputs": [],
   "source": [
    "token = os.getenv(\"ApiGooglekey\")"
   ]
  },
  {
   "cell_type": "code",
   "execution_count": 37,
   "id": "bc3be758",
   "metadata": {},
   "outputs": [],
   "source": [
    "geoloc = f'https://www.googleapis.com/geolocation/v1/geolocate?key={token}'\n",
    "#termino = \"hospitales\"\n",
    "#ubicacion = \"&location=-12.135,-77.023&radius=5000\"\n",
    "map_lat = 40.463667\n",
    "map_long = -3.74922\n",
    "esp_map = folium.Map(location=[map_lat,map_long], zoom_start=6)\n",
    "#esp_map\n"
   ]
  },
  {
   "cell_type": "code",
   "execution_count": 40,
   "id": "de665ff6",
   "metadata": {},
   "outputs": [],
   "source": [
    "d = pd.read_csv('data/Datos.csv')\n",
    "data = pd.DataFrame(d)\n",
    "data.drop(['Unnamed: 0'], axis = 1, inplace = True)\n",
    "#data"
   ]
  },
  {
   "cell_type": "code",
   "execution_count": null,
   "id": "da57a5aa",
   "metadata": {},
   "outputs": [],
   "source": [
    "def coordenadas()"
   ]
  }
 ],
 "metadata": {
  "kernelspec": {
   "display_name": "Python 3",
   "language": "python",
   "name": "python3"
  },
  "language_info": {
   "codemirror_mode": {
    "name": "ipython",
    "version": 3
   },
   "file_extension": ".py",
   "mimetype": "text/x-python",
   "name": "python",
   "nbconvert_exporter": "python",
   "pygments_lexer": "ipython3",
   "version": "3.8.8"
  }
 },
 "nbformat": 4,
 "nbformat_minor": 5
}
