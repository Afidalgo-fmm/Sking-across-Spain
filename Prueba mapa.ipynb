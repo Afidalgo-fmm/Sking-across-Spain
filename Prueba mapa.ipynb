{
 "cells": [
  {
   "cell_type": "code",
   "execution_count": 4,
   "id": "c3456034",
   "metadata": {},
   "outputs": [],
   "source": [
    "import folium\n",
    "from folium import Choropleth, Circle, Marker, Icon, Map\n",
    "from folium.plugins import HeatMap, MarkerCluster\n",
    "import pandas as pd\n"
   ]
  },
  {
   "cell_type": "code",
   "execution_count": 24,
   "id": "927473be",
   "metadata": {},
   "outputs": [],
   "source": [
    "inicial_lat = 40.463667\n",
    "inicial_long = -3.74922\n",
    "esp_map = folium.Map(location=[inicial_lat,inicial_long], zoom_start=5)\n",
    "esp_map;"
   ]
  },
  {
   "cell_type": "code",
   "execution_count": 21,
   "id": "4250cf81",
   "metadata": {},
   "outputs": [
    {
     "data": {
      "text/plain": [
       "<folium.map.Marker at 0x7fd56d876a30>"
      ]
     },
     "execution_count": 21,
     "metadata": {},
     "output_type": "execute_result"
    }
   ],
   "source": [
    "marcador_esp = folium.Marker(location=[inicial_lat, inicial_long], tooltip = \"España\")\n",
    "marcador_esp.add_to(esp_map)"
   ]
  },
  {
   "cell_type": "code",
   "execution_count": null,
   "id": "8f099704",
   "metadata": {},
   "outputs": [],
   "source": [
    "#Baqueria = "
   ]
  }
 ],
 "metadata": {
  "kernelspec": {
   "display_name": "Python 3",
   "language": "python",
   "name": "python3"
  },
  "language_info": {
   "codemirror_mode": {
    "name": "ipython",
    "version": 3
   },
   "file_extension": ".py",
   "mimetype": "text/x-python",
   "name": "python",
   "nbconvert_exporter": "python",
   "pygments_lexer": "ipython3",
   "version": "3.8.8"
  }
 },
 "nbformat": 4,
 "nbformat_minor": 5
}
