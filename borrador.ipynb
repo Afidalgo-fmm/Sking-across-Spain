{
 "cells": [
  {
   "cell_type": "code",
   "execution_count": 7,
   "id": "f5000c05",
   "metadata": {},
   "outputs": [
    {
     "name": "stdout",
     "output_type": "stream",
     "text": [
      "Que nivel tienes(novato,principiante,medio,experto): medio\n",
      "Si eres medio te recomiendo estas estaciones. \n",
      "['Astún', 'Cerler', 'Baqueira Beret', 'Espot Esquí', 'Masella', 'Lunada', 'Manzaneda']\n",
      "Quieres snonwpark: indiferente\n",
      "Tienes todas estas estaciones: \n",
      "0                    Javalambre\n",
      "1     Punto de Nieve Santa Inés\n",
      "2                  Valdelinares\n",
      "3                   Valdezcaray\n",
      "4                 Sierra Nevada\n",
      "5                         Astún\n",
      "6                     Candanchú\n",
      "7                        Cerler\n",
      "8                      Formigal\n",
      "9                     Panticosa\n",
      "10               Baqueira Beret\n",
      "11                    Boí Taüll\n",
      "12                  Espot Esquí\n",
      "13                    La Molina\n",
      "14                      Masella\n",
      "15                    Port Ainé\n",
      "16               Port del Comte\n",
      "17                     Tavascán\n",
      "18                Vall de Nuria\n",
      "19                 Vallter 2000\n",
      "20                  Alto Campoo\n",
      "21          Fuentes de Invierno\n",
      "22                  Leitariegos\n",
      "23                       Lunada\n",
      "24                    Manzaneda\n",
      "25                   San Isidro\n",
      "26            Valgrande-Pajares\n",
      "27                   La Pinilla\n",
      "28        Puerto de Navacerrada\n",
      "29              Sierra de Béjar\n",
      "30                    Valdesquí\n",
      "Name: estacion, dtype: object\n",
      "Vas con famalia(S/N): N\n"
     ]
    }
   ],
   "source": [
    "nivel = input('Que nivel tienes(novato,principiante,medio,experto): ')\n",
    "if nivel.lower() == 'novato':\n",
    "    print(f'Si eres {nivel} te recomiendo estas estaciones. ')\n",
    "    print(nivel_novato)\n",
    "elif nivel.lower() == 'principiante':\n",
    "    print(f'Si eres {nivel} te recomiendo estas estaciones.')\n",
    "    print(nivel_principiante)\n",
    "elif nivel.lower() == 'medio':\n",
    "    print(f'Si eres {nivel} te recomiendo estas estaciones. ')\n",
    "    print(nivel_medio)\n",
    "elif nivel.lower() == 'experto':\n",
    "    print(f'Si eres {nivel} te recomiendo estas estaciones. ')\n",
    "    print(nivel_experto)\n",
    "else:\n",
    "    print('Solo puedes indicar uno de esos cuatro niveles: novato, principiante, medio o experto.')\n",
    "snow = input('Quieres snonwpark: ')\n",
    "if snow.upper() == 'S':\n",
    "    print('Estas son las estaciones con Snowpark.')\n",
    "    print(consnow)\n",
    "elif snow.upper() == 'N':\n",
    "    print('Estas son las estaciones sin Snowpark.')\n",
    "    print(sinsnow)\n",
    "elif snow.lower() == 'indiferente':\n",
    "    print('Tienes todas estas estaciones: ')\n",
    "    print(sudasnow)\n",
    "    \n",
    "else:\n",
    "    print('Tienes que elegir S(si)/N(no).')\n",
    "    \n",
    "fam = input('Vas con famalia(S/N): ')\n",
    "    \n",
    "    "
   ]
  },
  {
   "cell_type": "code",
   "execution_count": null,
   "id": "3d0425f3",
   "metadata": {},
   "outputs": [],
   "source": [
    "'Astún', 'Cerler', 'Baqueira Beret', 'Espot Esquí', 'Masella', 'Lunada', 'Manzaneda'"
   ]
  },
  {
   "cell_type": "code",
   "execution_count": 11,
   "id": "e4d3ea42",
   "metadata": {
    "scrolled": true
   },
   "outputs": [
    {
     "name": "stdout",
     "output_type": "stream",
     "text": [
      "['Javalambre', 'Punto de Nieve Santa Inés', 'Valdelinares', 'Valdezcaray', 'Astún', 'Cerler', 'Boí Taüll', 'Espot Esquí', 'La Molina', 'Masella', 'Port Ainé', 'Port del Comte', 'Tavascán', 'Vall de Nuria', 'Vallter 2000', 'Alto Campoo', 'Fuentes de Invierno', 'Leitariegos', 'Lunada', 'Manzaneda', 'San Isidro', 'Valgrande-Pajares', 'La Pinilla', 'Puerto de Navacerrada', 'Sierra de Béjar', 'Valdesquí']\n"
     ]
    },
    {
     "data": {
      "text/html": [
       "<div>\n",
       "<style scoped>\n",
       "    .dataframe tbody tr th:only-of-type {\n",
       "        vertical-align: middle;\n",
       "    }\n",
       "\n",
       "    .dataframe tbody tr th {\n",
       "        vertical-align: top;\n",
       "    }\n",
       "\n",
       "    .dataframe thead th {\n",
       "        text-align: right;\n",
       "    }\n",
       "</style>\n",
       "<table border=\"1\" class=\"dataframe\">\n",
       "  <thead>\n",
       "    <tr style=\"text-align: right;\">\n",
       "      <th></th>\n",
       "    </tr>\n",
       "  </thead>\n",
       "  <tbody>\n",
       "  </tbody>\n",
       "</table>\n",
       "</div>"
      ],
      "text/plain": [
       "Empty DataFrame\n",
       "Columns: []\n",
       "Index: []"
      ]
     },
     "execution_count": 11,
     "metadata": {},
     "output_type": "execute_result"
    }
   ],
   "source": [
    "convinetor(nivel,snow,fam)"
   ]
  },
  {
   "cell_type": "code",
   "execution_count": 10,
   "id": "a9599cc0",
   "metadata": {},
   "outputs": [],
   "source": [
    "import pandas as pd\n",
    "import numpy  as np\n",
    "from src import cargar_datos as dat\n",
    "\n",
    "nivel_novato = [] # sin negras y muy pocas rojas\n",
    "nivel_principiante = [] # principalmente que sean verdes y azules\n",
    "nivel_medio = []  # un mix de todo pero sobre todo que haya rojas y azules\n",
    "nivel_experto = [] # sin casi verdes ni azules sobre todo negras\n",
    "\n",
    "my_data = dat.cargardatos()\n",
    "\n",
    "for i,row in my_data.iterrows():\n",
    "    if my_data.pistas_negras[i] == 0 and my_data.pistas_rojas[i] < my_data.pistas_verdes[i] and my_data.pistas_azules[i]:\n",
    "        nivel_novato.append( my_data.estacion[i])\n",
    "    elif my_data.pistas_azules[i] and my_data.pistas_verdes[i] > my_data.pistas_negras[i] and my_data.pistas_rojas[i]:\n",
    "        nivel_principiante.append(my_data.estacion[i])\n",
    "    elif my_data.pistas_rojas[i] and my_data.pistas_azules[i] > my_data.pistas_negras[i] and my_data.pistas_verdes[i]:\n",
    "        nivel_medio.append(my_data.estacion[i])\n",
    "    elif my_data.pistas_negras[i] and my_data.pistas_rojas[i] > my_data.pistas_azules[i] and my_data.pistas_verdes[i]:\n",
    "        nivel_experto.append(my_data.estacion[i])\n",
    "    \n",
    "\n",
    "consnow = []\n",
    "sinsnow = []\n",
    "sudasnow = my_data['estacion']\n",
    "for i,row in my_data.iterrows():\n",
    "    if my_data.Snowpark[i] == 0:\n",
    "        sinsnow.append(my_data.estacion[i])\n",
    "    elif my_data.Snowpark[i] == 1:\n",
    "        consnow.append(my_data.estacion[i])\n",
    "    \n",
    "\n",
    "\n",
    "confam = []\n",
    "sinfam = []\n",
    "for i,row in my_data.iterrows():\n",
    "    if my_data.Familiar[i] == 0:\n",
    "        sinfam.append(my_data.estacion[i])\n",
    "    elif my_data.Familiar[i] == 1:\n",
    "        confam.append(my_data.estacion[i])\n",
    "    \n",
    "\n",
    "\n",
    "def convinetor(nivel,snow,familia):\n",
    "    if nivel == 'novato':\n",
    "        resnivel = nivel_novato\n",
    "    elif nivel == 'principiante':\n",
    "        resnivel = nivel_principiante\n",
    "    elif nivel ==  'medio':\n",
    "        resnivel = nivel_medio\n",
    "    elif nivel == 'experto':\n",
    "        resnivel = nivel_experto\n",
    "        \n",
    "    if snow == 'S':\n",
    "        ressnow = consnow\n",
    "    elif snow == 'N':\n",
    "        ressnow = sinsnow\n",
    "    elif snow == 'indiferente':\n",
    "        ressnow = sudasnow\n",
    "        \n",
    "    if familia == 'S':\n",
    "        resfam = confam\n",
    "    elif familia == 'N':\n",
    "        resfam = sinfam\n",
    "    res = [value for value in resnivel if value in ressnow]\n",
    "    resultado = [value for value in resfam if value in res]\n",
    "    print(resfam)\n",
    "    newdata = pd.DataFrame()\n",
    "    for i, row in my_data.iterrows():\n",
    "        if my_data.estacion[i] in resultado:\n",
    "            newdata = newdata.append(row, ignore_index=True)\n",
    "   \n",
    "    return newdata"
   ]
  },
  {
   "cell_type": "code",
   "execution_count": 1,
   "id": "04fdd5d6",
   "metadata": {},
   "outputs": [
    {
     "ename": "NameError",
     "evalue": "name 'nivel_novato' is not defined",
     "output_type": "error",
     "traceback": [
      "\u001b[0;31m---------------------------------------------------------------------------\u001b[0m",
      "\u001b[0;31mNameError\u001b[0m                                 Traceback (most recent call last)",
      "\u001b[0;32m<ipython-input-1-226d4d365815>\u001b[0m in \u001b[0;36m<module>\u001b[0;34m\u001b[0m\n\u001b[0;32m----> 1\u001b[0;31m \u001b[0mprint\u001b[0m\u001b[0;34m(\u001b[0m\u001b[0mnivel_novato\u001b[0m\u001b[0;34m)\u001b[0m\u001b[0;34m\u001b[0m\u001b[0;34m\u001b[0m\u001b[0m\n\u001b[0m",
      "\u001b[0;31mNameError\u001b[0m: name 'nivel_novato' is not defined"
     ]
    }
   ],
   "source": [
    "print(nivel_novato)"
   ]
  },
  {
   "cell_type": "code",
   "execution_count": null,
   "id": "979501c2",
   "metadata": {},
   "outputs": [],
   "source": []
  }
 ],
 "metadata": {
  "kernelspec": {
   "display_name": "Python 3",
   "language": "python",
   "name": "python3"
  },
  "language_info": {
   "codemirror_mode": {
    "name": "ipython",
    "version": 3
   },
   "file_extension": ".py",
   "mimetype": "text/x-python",
   "name": "python",
   "nbconvert_exporter": "python",
   "pygments_lexer": "ipython3",
   "version": "3.8.8"
  }
 },
 "nbformat": 4,
 "nbformat_minor": 5
}
