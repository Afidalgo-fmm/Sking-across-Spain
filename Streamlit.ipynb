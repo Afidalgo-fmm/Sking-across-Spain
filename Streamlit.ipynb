{
 "cells": [
  {
   "cell_type": "code",
   "execution_count": 18,
   "id": "9488b31d",
   "metadata": {},
   "outputs": [],
   "source": [
    "import pandas as pd\n"
   ]
  },
  {
   "cell_type": "code",
   "execution_count": 74,
   "id": "ce2401f5",
   "metadata": {},
   "outputs": [
    {
     "data": {
      "text/plain": [
       "Index(['estacion', 'Estado_nieve', 'Estado', 'pistas_azules', 'pistas_negras',\n",
       "       'pistas_rojas', 'pistas_verdes', 'n_pistas', 'remontes', 'Snowpark',\n",
       "       'KM disponibles', 'KM totales', 'precio_adultos €', 'Espesor_nieve cm',\n",
       "       'lat', 'long', 'Familiar'],\n",
       "      dtype='object')"
      ]
     },
     "execution_count": 74,
     "metadata": {},
     "output_type": "execute_result"
    }
   ],
   "source": [
    "#cargar datos\n",
    "dat = pd.read_csv('data/Datos.csv', index_col = 0)\n",
    "dat.columns"
   ]
  },
  {
   "cell_type": "code",
   "execution_count": 45,
   "id": "67d54848",
   "metadata": {},
   "outputs": [
    {
     "data": {
      "text/plain": [
       "0     1\n",
       "1     1\n",
       "2     1\n",
       "3     0\n",
       "4     1\n",
       "5     1\n",
       "6     1\n",
       "7     1\n",
       "8     1\n",
       "9     1\n",
       "10    1\n",
       "11    1\n",
       "12    0\n",
       "13    1\n",
       "14    1\n",
       "15    1\n",
       "16    1\n",
       "17    1\n",
       "18    1\n",
       "19    1\n",
       "20    1\n",
       "21    1\n",
       "22    1\n",
       "23    0\n",
       "24    1\n",
       "25    1\n",
       "26    1\n",
       "27    1\n",
       "28    1\n",
       "29    1\n",
       "30    1\n",
       "Name: Snowpark, dtype: int64"
      ]
     },
     "execution_count": 45,
     "metadata": {},
     "output_type": "execute_result"
    }
   ],
   "source": [
    "dat.Snowpark"
   ]
  },
  {
   "cell_type": "code",
   "execution_count": 46,
   "id": "3923c52d",
   "metadata": {},
   "outputs": [],
   "source": [
    "nivel_novato = [] # sin negras y muy pocas rojas\n",
    "nivel_principiante = [] # principalmente que sean verdes y azules\n",
    "nivel_medio = []  # un mix de todo pero sobre todo que haya rojas y azules\n",
    "nivel_experto = [] # sin casi verdes ni azules sobre todo negras\n",
    "for i,row in dat.iterrows():\n",
    "    if dat.pistas_negras[i] == 0 and dat.pistas_rojas[i] < dat.pistas_verdes[i] and dat.pistas_azules[i]:\n",
    "        nivel_novato.append(dat.estacion[i])\n",
    "    elif dat.pistas_azules[i] and dat.pistas_verdes[i] > dat.pistas_negras[i] and dat.pistas_rojas[i]:\n",
    "        nivel_principiante.append(dat.estacion[i])\n",
    "    elif dat.pistas_rojas[i] and dat.pistas_azules[i] > dat.pistas_negras[i] and dat.pistas_verdes[i]:\n",
    "        nivel_medio.append(dat.estacion[i])\n",
    "    elif dat.pistas_negras[i] and dat.pistas_rojas[i] > dat.pistas_azules[i] and dat.pistas_verdes[i]:\n",
    "        nivel_experto.append(dat.estacion[i])\n",
    "    \n",
    "        "
   ]
  },
  {
   "cell_type": "code",
   "execution_count": 49,
   "id": "fb8f7b59",
   "metadata": {},
   "outputs": [
    {
     "name": "stdout",
     "output_type": "stream",
     "text": [
      "Que nivel tienes(novato,principiante,medio,experto): Novato\n",
      "Si eres Novato te recomiendo estas estaciones. \n",
      "['Javalambre', 'Punto de Nieve Santa Inés', 'Valdelinares', 'Valdesquí']\n"
     ]
    }
   ],
   "source": [
    "# Pregunta para saber el nivel y seleccionar las estaciones\n",
    "nivel = input('Que nivel tienes(novato,principiante,medio,experto): ')\n",
    "if nivel.lower() == 'novato':\n",
    "    print(f'Si eres {nivel} te recomiendo estas estaciones. ')\n",
    "    print(nivel_novato)\n",
    "elif nivel.lower() == 'principiante':\n",
    "    print(f'Si eres {nivel} te recomiendo estas estaciones.')\n",
    "    print(nivel_principiante)\n",
    "elif nivel.lower() == 'medio':\n",
    "    print(f'Si eres {nivel} te recomiendo estas estaciones. ')\n",
    "    print(nivel_medio)\n",
    "elif nivel.lower() == 'experto':\n",
    "    print(f'Si eres {nivel} te recomiendo estas estaciones. ')\n",
    "    print(nivel_experto)\n",
    "else:\n",
    "    print('Solo puedes indicar uno de esos cuatro niveles: novato, principiante, medio o experto.')"
   ]
  },
  {
   "cell_type": "code",
   "execution_count": 53,
   "id": "9a75f785",
   "metadata": {},
   "outputs": [
    {
     "name": "stdout",
     "output_type": "stream",
     "text": [
      "Quieres que haya snonwpark(S/N):s\n",
      "Estas son las estaciones con Snowpark.\n",
      "['Javalambre', 'Punto de Nieve Santa Inés', 'Valdelinares', 'Sierra Nevada', 'Astún', 'Candanchú', 'Cerler', 'Formigal', 'Panticosa', 'Baqueira Beret', 'Boí Taüll', 'La Molina', 'Masella', 'Port Ainé', 'Port del Comte', 'Tavascán', 'Vall de Nuria', 'Vallter 2000', 'Alto Campoo', 'Fuentes de Invierno', 'Leitariegos', 'Manzaneda', 'San Isidro', 'Valgrande-Pajares', 'La Pinilla', 'Puerto de Navacerrada', 'Sierra de Béjar', 'Valdesquí']\n"
     ]
    }
   ],
   "source": [
    "# Para saber si quiere snowpark\n",
    "snow = input('Quieres que haya snonwpark(S/N):')\n",
    "consnow = []\n",
    "sinsnow = []\n",
    "for i,row in dat.iterrows():\n",
    "    if dat.Snowpark[i] == 0:\n",
    "        sinsnow.append(dat.estacion[i])\n",
    "    elif dat.Snowpark[i] == 1:\n",
    "        consnow.append(dat.estacion[i])\n",
    "    else:\n",
    "        print('la estacion no tiene Snowpark')\n",
    "if snow.upper() == 'S':\n",
    "    print('Estas son las estaciones con Snowpark.')\n",
    "    print(consnow)\n",
    "elif snow.upper() == 'N':\n",
    "    print('Estas son las estaciones sin Snowpark.')\n",
    "    print(sinsnow)\n",
    "else:\n",
    "    print('Tienes que elegir S(si)/N(no).')"
   ]
  },
  {
   "cell_type": "code",
   "execution_count": 60,
   "id": "72c2d658",
   "metadata": {},
   "outputs": [],
   "source": [
    "fsmilia_mentira = ['Baqueira Beret', 'Boí Taüll', 'La Molina', 'Masella', 'Port Ainé', 'Port del Comte','Fuentes de Invierno', 'Leitariegos', 'Manzaneda', 'San Isidro', 'Valgrande-Pajares', 'La Pinilla', 'Puerto de Navacerrada', 'Sierra de Béjar', 'Valdesquí']"
   ]
  },
  {
   "cell_type": "code",
   "execution_count": 62,
   "id": "b7fe917e",
   "metadata": {},
   "outputs": [
    {
     "name": "stdout",
     "output_type": "stream",
     "text": [
      "['Boí Taüll', 'Fuentes de Invierno']\n"
     ]
    }
   ],
   "source": [
    "print(intersection(nivel_experto, consnow,fsmilia_mentira))"
   ]
  },
  {
   "cell_type": "code",
   "execution_count": 75,
   "id": "ccd8309d",
   "metadata": {},
   "outputs": [],
   "source": [
    "#Para saber que estaciones son para familia\n",
    "confam = []\n",
    "sinfam = []\n",
    "for i,row in dat.iterrows():\n",
    "    if dat.Familiar[i] == 0:\n",
    "        sinfam.append(dat.estacion[i])\n",
    "    elif dat.Snowpark[i] == 1:\n",
    "        confam.append(dat.estacion[i])\n",
    "    else:\n",
    "        print('la estacion no vale para nada')\n",
    "fam = input('Vas con famalia(S/N): ')\n"
   ]
  },
  {
   "cell_type": "code",
   "execution_count": 76,
   "id": "7936a6ba",
   "metadata": {},
   "outputs": [
    {
     "data": {
      "text/plain": [
       "(5, 26)"
      ]
     },
     "execution_count": 76,
     "metadata": {},
     "output_type": "execute_result"
    }
   ],
   "source": [
    "len(confam), len(sinfam)"
   ]
  },
  {
   "cell_type": "code",
   "execution_count": 61,
   "id": "685f74d3",
   "metadata": {},
   "outputs": [],
   "source": [
    "def intersection(nivel, snowpark,familiar):\n",
    "    lst3 = [value for value in nivel if value in snowpark]\n",
    "    lst4 = [value for value in lst3 if value in familiar]\n",
    "    return lst4\n"
   ]
  },
  {
   "cell_type": "code",
   "execution_count": 79,
   "id": "8f09c508",
   "metadata": {},
   "outputs": [],
   "source": [
    "mifila = dat[dat[\"estacion\"]=='Boí Taüll']\n",
    "#mifila['lat']"
   ]
  },
  {
   "cell_type": "code",
   "execution_count": 85,
   "id": "0ffa157c",
   "metadata": {},
   "outputs": [],
   "source": [
    "#funcion para convinar las listas \n",
    "\n",
    "def convinetor(nivel,snow,familia):\n",
    "    if nivel.lower() == 'novato':\n",
    "        resnivel = nivel_novato\n",
    "    elif nivel.lower() == 'principiante':\n",
    "        resnivel = nivel_principiante\n",
    "    elif nivel.lower() ==  'medio':\n",
    "        resnivel = nivel_medio\n",
    "    elif nivel.lower() == 'experto':\n",
    "        resnivel = nivel_experto\n",
    "        \n",
    "    if snow.upper() == 'S':\n",
    "        ressnow = consnow\n",
    "    elif snow.upper() == 'N':\n",
    "        ressnow = sinsnow\n",
    "        \n",
    "    if familia.upper() == 'S':\n",
    "        resfam = confam\n",
    "    elif familia.upper() == 'N':\n",
    "        resfam = sinfam\n",
    "    res = [value for value in resnivel if value in ressnow]\n",
    "    resultado = [value for value in resfam if value in res]\n",
    "    return f'Estas son las estaciones que te recomiendo {resultado}'"
   ]
  },
  {
   "cell_type": "code",
   "execution_count": 87,
   "id": "d1ccaa07",
   "metadata": {},
   "outputs": [
    {
     "name": "stdout",
     "output_type": "stream",
     "text": [
      "Cual es tu nivel(novato,principiante,medio,experto): medio\n",
      "Quieres que haya snonwpark(S/N):s\n",
      "Vas con tu familia o sin tu familia (S/N): s\n",
      "Estas son las estaciones que te recomiendo ['Baqueira Beret']\n"
     ]
    }
   ],
   "source": [
    "nivel = input('Cual es tu nivel(novato,principiante,medio,experto): ')\n",
    "snow = input('Quieres que haya snonwpark(S/N):')\n",
    "fam = input('Vas con tu familia o sin tu familia (S/N): ')\n",
    "print(convinetor(nivel,snow,fam))"
   ]
  },
  {
   "cell_type": "code",
   "execution_count": null,
   "id": "0594f0d2",
   "metadata": {},
   "outputs": [],
   "source": []
  },
  {
   "cell_type": "code",
   "execution_count": null,
   "id": "1dcf5565",
   "metadata": {},
   "outputs": [],
   "source": []
  },
  {
   "cell_type": "code",
   "execution_count": null,
   "id": "8ee13e7a",
   "metadata": {},
   "outputs": [],
   "source": []
  },
  {
   "cell_type": "code",
   "execution_count": null,
   "id": "f879c09a",
   "metadata": {},
   "outputs": [],
   "source": [
    "#listas importantes para Streamlit\n",
    "'''\n",
    "sinfam, confam\n",
    "sinsnow, consnow\n",
    "nivel_novato, nivel_experto, nivel_medio, nivel_principiante\n",
    "\n",
    "'''\n"
   ]
  }
 ],
 "metadata": {
  "kernelspec": {
   "display_name": "Python 3",
   "language": "python",
   "name": "python3"
  },
  "language_info": {
   "codemirror_mode": {
    "name": "ipython",
    "version": 3
   },
   "file_extension": ".py",
   "mimetype": "text/x-python",
   "name": "python",
   "nbconvert_exporter": "python",
   "pygments_lexer": "ipython3",
   "version": "3.8.8"
  }
 },
 "nbformat": 4,
 "nbformat_minor": 5
}
