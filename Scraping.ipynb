{
 "cells": [
  {
   "cell_type": "code",
   "execution_count": 2,
   "id": "ccf4865d",
   "metadata": {},
   "outputs": [],
   "source": [
    "from selenium import webdriver\n",
    "from selenium.webdriver.chrome.options import Options\n",
    "import pandas as pd\n",
    "import time\n",
    "from selenium.webdriver.support.ui import Select\n",
    "from webdriver_manager.chrome import ChromeDriverManager"
   ]
  },
  {
   "cell_type": "code",
   "execution_count": 3,
   "id": "53bdf257",
   "metadata": {},
   "outputs": [],
   "source": [
    "opciones=Options()\n",
    "\n",
    "opciones.add_experimental_option('excludeSwitches', ['enable-automation'])\n",
    "opciones.add_experimental_option('useAutomationExtension', False)\n",
    "\n",
    "opciones.headless=False    # si True, no aperece la ventana (headless=no visible)\n",
    "\n",
    "opciones.add_argument('--start-maximized')         # comienza maximizado\n",
    "\n",
    "opciones.add_argument('user-data-dir=selenium')    # mantiene las cookies\n",
    "\n",
    "opciones.add_argument('--incognito')              # incognito"
   ]
  },
  {
   "cell_type": "code",
   "execution_count": 4,
   "id": "30a5fff9",
   "metadata": {},
   "outputs": [
    {
     "name": "stderr",
     "output_type": "stream",
     "text": [
      "\n",
      "\n",
      "====== WebDriver manager ======\n",
      "Current google-chrome version is 96.0.4664\n",
      "Get LATEST chromedriver version for 96.0.4664 google-chrome\n",
      "Trying to download new driver from https://chromedriver.storage.googleapis.com/96.0.4664.45/chromedriver_mac64.zip\n",
      "Driver has been saved in cache [/Users/alvaro/.wdm/drivers/chromedriver/mac64/96.0.4664.45]\n",
      "<ipython-input-4-3a0dea59218f>:1: DeprecationWarning: executable_path has been deprecated, please pass in a Service object\n",
      "  driver = webdriver.Chrome(ChromeDriverManager().install(), options = opciones)\n",
      "<ipython-input-4-3a0dea59218f>:10: DeprecationWarning: find_element_by_* commands are deprecated. Please use find_element() instead\n",
      "  estaciones.append(driver.find_element_by_xpath(f'//*[@id=\"contenido\"]/div[2]/div/div[2]/div[2]/div[{i}]/a[1]/span[1]').text)\n",
      "<ipython-input-4-3a0dea59218f>:13: DeprecationWarning: find_element_by_* commands are deprecated. Please use find_element() instead\n",
      "  km.append(driver.find_element_by_xpath(f'//*[@id=\"contenido\"]/div[2]/div/div[2]/div[2]/div[{i}]/a[3]').text)\n"
     ]
    },
    {
     "name": "stdout",
     "output_type": "stream",
     "text": [
      "name done\n",
      "km done\n",
      "nieve done\n",
      "estado done\n",
      "name done\n",
      "km done\n",
      "nieve done\n",
      "estado done\n",
      "name done\n",
      "km done\n"
     ]
    },
    {
     "name": "stderr",
     "output_type": "stream",
     "text": [
      "<ipython-input-4-3a0dea59218f>:16: DeprecationWarning: find_element_by_* commands are deprecated. Please use find_element() instead\n",
      "  nieve.append(driver.find_element_by_xpath(f'//*[@id=\"contenido\"]/div[2]/div/div[2]/div[2]/div[{i}]/a[5]').text)\n",
      "<ipython-input-4-3a0dea59218f>:18: DeprecationWarning: find_element_by_* commands are deprecated. Please use find_element() instead\n",
      "  estado.append(driver.find_element_by_xpath(f'//*[@id=\"contenido\"]/div[2]/div/div[2]/div[2]/div[{i}]/a[2]/span/span[1]').text)\n"
     ]
    },
    {
     "name": "stdout",
     "output_type": "stream",
     "text": [
      "nieve done\n",
      "estado done\n",
      "name done\n",
      "km done\n",
      "nieve done\n",
      "estado done\n",
      "name done\n",
      "km done\n",
      "nieve done\n",
      "estado done\n",
      "name done\n",
      "km done\n",
      "nieve done\n",
      "estado done\n",
      "name done\n",
      "km done\n",
      "nieve done\n",
      "estado done\n",
      "name done\n",
      "km done\n",
      "nieve done\n",
      "estado done\n",
      "name done\n",
      "km done\n",
      "nieve done\n",
      "estado done\n",
      "name done\n",
      "km done\n",
      "nieve done\n",
      "estado done\n"
     ]
    }
   ],
   "source": [
    "driver = webdriver.Chrome(ChromeDriverManager().install(), options = opciones)\n",
    "url = 'https://www.infonieve.es/estaciones-esqui/pais/espana/'\n",
    "driver.get(url)\n",
    "driver.implicitly_wait(2)\n",
    "estaciones = []\n",
    "km = []\n",
    "nieve = []\n",
    "estado = []\n",
    "for i in range(1,11):\n",
    "    estaciones.append(driver.find_element_by_xpath(f'//*[@id=\"contenido\"]/div[2]/div/div[2]/div[2]/div[{i}]/a[1]/span[1]').text)\n",
    "    driver.implicitly_wait(2)\n",
    "    print('name done')\n",
    "    km.append(driver.find_element_by_xpath(f'//*[@id=\"contenido\"]/div[2]/div/div[2]/div[2]/div[{i}]/a[3]').text)\n",
    "    driver.implicitly_wait(2)\n",
    "    print('km done')\n",
    "    nieve.append(driver.find_element_by_xpath(f'//*[@id=\"contenido\"]/div[2]/div/div[2]/div[2]/div[{i}]/a[5]').text)\n",
    "    print('nieve done')\n",
    "    estado.append(driver.find_element_by_xpath(f'//*[@id=\"contenido\"]/div[2]/div/div[2]/div[2]/div[{i}]/a[2]/span/span[1]').text)\n",
    "    print('estado done')"
   ]
  },
  {
   "cell_type": "code",
   "execution_count": 5,
   "id": "7916f1db",
   "metadata": {},
   "outputs": [
    {
     "data": {
      "text/plain": [
       "10"
      ]
     },
     "execution_count": 5,
     "metadata": {},
     "output_type": "execute_result"
    }
   ],
   "source": [
    "KM = []\n",
    "for i in km:\n",
    "    i = i.split('\\n')\n",
    "    KM.append(i[0])\n",
    "len(KM)"
   ]
  },
  {
   "cell_type": "code",
   "execution_count": 6,
   "id": "80801876",
   "metadata": {},
   "outputs": [
    {
     "data": {
      "text/html": [
       "<div>\n",
       "<style scoped>\n",
       "    .dataframe tbody tr th:only-of-type {\n",
       "        vertical-align: middle;\n",
       "    }\n",
       "\n",
       "    .dataframe tbody tr th {\n",
       "        vertical-align: top;\n",
       "    }\n",
       "\n",
       "    .dataframe thead th {\n",
       "        text-align: right;\n",
       "    }\n",
       "</style>\n",
       "<table border=\"1\" class=\"dataframe\">\n",
       "  <thead>\n",
       "    <tr style=\"text-align: right;\">\n",
       "      <th></th>\n",
       "      <th>estacion</th>\n",
       "      <th>KM</th>\n",
       "      <th>Nieve</th>\n",
       "      <th>Estado</th>\n",
       "    </tr>\n",
       "  </thead>\n",
       "  <tbody>\n",
       "    <tr>\n",
       "      <th>0</th>\n",
       "      <td>Baqueira Beret</td>\n",
       "      <td>95/167</td>\n",
       "      <td>185 CM\\nPolvo</td>\n",
       "      <td>Abierta</td>\n",
       "    </tr>\n",
       "    <tr>\n",
       "      <th>1</th>\n",
       "      <td>Boí Taüll</td>\n",
       "      <td>17/45</td>\n",
       "      <td>40 CM\\nPolvo</td>\n",
       "      <td>Abierta</td>\n",
       "    </tr>\n",
       "    <tr>\n",
       "      <th>2</th>\n",
       "      <td>Espot Esquí</td>\n",
       "      <td>16/25</td>\n",
       "      <td>80 CM\\nPolvo</td>\n",
       "      <td>Abierta</td>\n",
       "    </tr>\n",
       "    <tr>\n",
       "      <th>3</th>\n",
       "      <td>La Molina</td>\n",
       "      <td>51/71</td>\n",
       "      <td>60 CM\\nPolvo</td>\n",
       "      <td>Abierta</td>\n",
       "    </tr>\n",
       "    <tr>\n",
       "      <th>4</th>\n",
       "      <td>Masella</td>\n",
       "      <td>64/74</td>\n",
       "      <td>90 CM\\nPolvo/Dura</td>\n",
       "      <td>Abierta</td>\n",
       "    </tr>\n",
       "    <tr>\n",
       "      <th>5</th>\n",
       "      <td>Port Ainé</td>\n",
       "      <td>20/26,7</td>\n",
       "      <td>50 CM\\nPolvo</td>\n",
       "      <td>Abierta</td>\n",
       "    </tr>\n",
       "    <tr>\n",
       "      <th>6</th>\n",
       "      <td>Port del Comte</td>\n",
       "      <td>25/50</td>\n",
       "      <td>50 CM\\nDura</td>\n",
       "      <td>Abierta</td>\n",
       "    </tr>\n",
       "    <tr>\n",
       "      <th>7</th>\n",
       "      <td>Tavascán</td>\n",
       "      <td>5/6</td>\n",
       "      <td>150 CM\\nPolvo</td>\n",
       "      <td>Abierta</td>\n",
       "    </tr>\n",
       "    <tr>\n",
       "      <th>8</th>\n",
       "      <td>Vall de Nuria</td>\n",
       "      <td>-/7,6</td>\n",
       "      <td>40 CM\\nPolvo</td>\n",
       "      <td>Cerrada</td>\n",
       "    </tr>\n",
       "    <tr>\n",
       "      <th>9</th>\n",
       "      <td>Vallter 2000</td>\n",
       "      <td>9/13,23</td>\n",
       "      <td>65 CM\\nPolvo</td>\n",
       "      <td>Abierta</td>\n",
       "    </tr>\n",
       "  </tbody>\n",
       "</table>\n",
       "</div>"
      ],
      "text/plain": [
       "         estacion       KM              Nieve   Estado\n",
       "0  Baqueira Beret   95/167      185 CM\\nPolvo  Abierta\n",
       "1       Boí Taüll    17/45       40 CM\\nPolvo  Abierta\n",
       "2     Espot Esquí    16/25       80 CM\\nPolvo  Abierta\n",
       "3       La Molina    51/71       60 CM\\nPolvo  Abierta\n",
       "4         Masella    64/74  90 CM\\nPolvo/Dura  Abierta\n",
       "5       Port Ainé  20/26,7       50 CM\\nPolvo  Abierta\n",
       "6  Port del Comte    25/50        50 CM\\nDura  Abierta\n",
       "7        Tavascán      5/6      150 CM\\nPolvo  Abierta\n",
       "8   Vall de Nuria    -/7,6       40 CM\\nPolvo  Cerrada\n",
       "9    Vallter 2000  9/13,23       65 CM\\nPolvo  Abierta"
      ]
     },
     "execution_count": 6,
     "metadata": {},
     "output_type": "execute_result"
    }
   ],
   "source": [
    "pirineo_catalan = pd.DataFrame([estaciones,KM,nieve,estado])\n",
    "pirineo_catalan = pirineo_catalan.transpose()\n",
    "pirineo_catalan.rename(columns = {0:'estacion',1:'KM', 2:'Nieve',3:'Estado'}, inplace = True)\n",
    "pirineo_catalan"
   ]
  },
  {
   "cell_type": "code",
   "execution_count": 8,
   "id": "6cb834e2",
   "metadata": {},
   "outputs": [
    {
     "name": "stderr",
     "output_type": "stream",
     "text": [
      "\n",
      "\n",
      "====== WebDriver manager ======\n",
      "Current google-chrome version is 96.0.4664\n",
      "Get LATEST chromedriver version for 96.0.4664 google-chrome\n",
      "Driver [/Users/alvaro/.wdm/drivers/chromedriver/mac64/96.0.4664.45/chromedriver] found in cache\n",
      "<ipython-input-8-0ab81620c22f>:1: DeprecationWarning: executable_path has been deprecated, please pass in a Service object\n",
      "  driver = webdriver.Chrome(ChromeDriverManager().install(), options = opciones)\n",
      "<ipython-input-8-0ab81620c22f>:10: DeprecationWarning: find_element_by_* commands are deprecated. Please use find_element() instead\n",
      "  estaciones.append(driver.find_element_by_xpath(f'//*[@id=\"contenido\"]/div[2]/div/div[4]/div[2]/div[{i}]/a[1]/span[1]').text)\n",
      "<ipython-input-8-0ab81620c22f>:13: DeprecationWarning: find_element_by_* commands are deprecated. Please use find_element() instead\n",
      "  km.append(driver.find_element_by_xpath(f'//*[@id=\"contenido\"]/div[2]/div/div[4]/div[2]/div[{i}]/a[3]').text)\n",
      "<ipython-input-8-0ab81620c22f>:16: DeprecationWarning: find_element_by_* commands are deprecated. Please use find_element() instead\n",
      "  nieve.append(driver.find_element_by_xpath(f'//*[@id=\"contenido\"]/div[2]/div/div[4]/div[2]/div[{i}]/a[5]').text)\n",
      "<ipython-input-8-0ab81620c22f>:18: DeprecationWarning: find_element_by_* commands are deprecated. Please use find_element() instead\n",
      "  estado1.append(driver.find_element_by_xpath(f'//*[@id=\"contenido\"]/div[2]/div/div[4]/div[2]/div[{i}]/a[2]/span/span[1]').text)\n"
     ]
    },
    {
     "name": "stdout",
     "output_type": "stream",
     "text": [
      "name done\n",
      "km done\n",
      "nieve done\n",
      "estado done\n",
      "name done\n",
      "km done\n",
      "nieve done\n",
      "estado done\n",
      "name done\n",
      "km done\n",
      "nieve done\n",
      "estado done\n",
      "name done\n",
      "km done\n",
      "nieve done\n",
      "estado done\n",
      "name done\n",
      "km done\n",
      "nieve done\n",
      "estado done\n"
     ]
    }
   ],
   "source": [
    "driver = webdriver.Chrome(ChromeDriverManager().install(), options = opciones)\n",
    "url = 'https://www.infonieve.es/estaciones-esqui/pais/espana/'\n",
    "driver.get(url)\n",
    "driver.implicitly_wait(2)\n",
    "estaciones = []\n",
    "km = []\n",
    "nieve = []\n",
    "estado1 = []\n",
    "for i in range(1,6):\n",
    "    estaciones.append(driver.find_element_by_xpath(f'//*[@id=\"contenido\"]/div[2]/div/div[4]/div[2]/div[{i}]/a[1]/span[1]').text)\n",
    "    driver.implicitly_wait(2)\n",
    "    print('name done')\n",
    "    km.append(driver.find_element_by_xpath(f'//*[@id=\"contenido\"]/div[2]/div/div[4]/div[2]/div[{i}]/a[3]').text)\n",
    "    driver.implicitly_wait(2)\n",
    "    print('km done')\n",
    "    nieve.append(driver.find_element_by_xpath(f'//*[@id=\"contenido\"]/div[2]/div/div[4]/div[2]/div[{i}]/a[5]').text)\n",
    "    print('nieve done')\n",
    "    estado1.append(driver.find_element_by_xpath(f'//*[@id=\"contenido\"]/div[2]/div/div[4]/div[2]/div[{i}]/a[2]/span/span[1]').text)\n",
    "    print('estado done')"
   ]
  },
  {
   "cell_type": "code",
   "execution_count": 9,
   "id": "389914f1",
   "metadata": {},
   "outputs": [
    {
     "data": {
      "text/html": [
       "<div>\n",
       "<style scoped>\n",
       "    .dataframe tbody tr th:only-of-type {\n",
       "        vertical-align: middle;\n",
       "    }\n",
       "\n",
       "    .dataframe tbody tr th {\n",
       "        vertical-align: top;\n",
       "    }\n",
       "\n",
       "    .dataframe thead th {\n",
       "        text-align: right;\n",
       "    }\n",
       "</style>\n",
       "<table border=\"1\" class=\"dataframe\">\n",
       "  <thead>\n",
       "    <tr style=\"text-align: right;\">\n",
       "      <th></th>\n",
       "      <th>estacion</th>\n",
       "      <th>KM</th>\n",
       "      <th>Nieve</th>\n",
       "      <th>Estado</th>\n",
       "    </tr>\n",
       "  </thead>\n",
       "  <tbody>\n",
       "    <tr>\n",
       "      <th>0</th>\n",
       "      <td>Astún</td>\n",
       "      <td>95/167</td>\n",
       "      <td>185 CM\\nPolvo</td>\n",
       "      <td>Abierta</td>\n",
       "    </tr>\n",
       "    <tr>\n",
       "      <th>1</th>\n",
       "      <td>Candanchú</td>\n",
       "      <td>17/45</td>\n",
       "      <td>210 CM\\nPolvo</td>\n",
       "      <td>Abierta</td>\n",
       "    </tr>\n",
       "    <tr>\n",
       "      <th>2</th>\n",
       "      <td>Cerler</td>\n",
       "      <td>16/25</td>\n",
       "      <td>80 CM\\nPolvo</td>\n",
       "      <td>Abierta</td>\n",
       "    </tr>\n",
       "    <tr>\n",
       "      <th>3</th>\n",
       "      <td>Formigal</td>\n",
       "      <td>51/71</td>\n",
       "      <td>150 CM\\nPolvo</td>\n",
       "      <td>Abierta</td>\n",
       "    </tr>\n",
       "    <tr>\n",
       "      <th>4</th>\n",
       "      <td>Panticosa</td>\n",
       "      <td>64/74</td>\n",
       "      <td>135 CM\\nPolvo</td>\n",
       "      <td>Abierta</td>\n",
       "    </tr>\n",
       "    <tr>\n",
       "      <th>5</th>\n",
       "      <td>None</td>\n",
       "      <td>20/26,7</td>\n",
       "      <td>None</td>\n",
       "      <td>None</td>\n",
       "    </tr>\n",
       "    <tr>\n",
       "      <th>6</th>\n",
       "      <td>None</td>\n",
       "      <td>25/50</td>\n",
       "      <td>None</td>\n",
       "      <td>None</td>\n",
       "    </tr>\n",
       "    <tr>\n",
       "      <th>7</th>\n",
       "      <td>None</td>\n",
       "      <td>5/6</td>\n",
       "      <td>None</td>\n",
       "      <td>None</td>\n",
       "    </tr>\n",
       "    <tr>\n",
       "      <th>8</th>\n",
       "      <td>None</td>\n",
       "      <td>-/7,6</td>\n",
       "      <td>None</td>\n",
       "      <td>None</td>\n",
       "    </tr>\n",
       "    <tr>\n",
       "      <th>9</th>\n",
       "      <td>None</td>\n",
       "      <td>9/13,23</td>\n",
       "      <td>None</td>\n",
       "      <td>None</td>\n",
       "    </tr>\n",
       "  </tbody>\n",
       "</table>\n",
       "</div>"
      ],
      "text/plain": [
       "    estacion       KM          Nieve   Estado\n",
       "0      Astún   95/167  185 CM\\nPolvo  Abierta\n",
       "1  Candanchú    17/45  210 CM\\nPolvo  Abierta\n",
       "2     Cerler    16/25   80 CM\\nPolvo  Abierta\n",
       "3   Formigal    51/71  150 CM\\nPolvo  Abierta\n",
       "4  Panticosa    64/74  135 CM\\nPolvo  Abierta\n",
       "5       None  20/26,7           None     None\n",
       "6       None    25/50           None     None\n",
       "7       None      5/6           None     None\n",
       "8       None    -/7,6           None     None\n",
       "9       None  9/13,23           None     None"
      ]
     },
     "execution_count": 9,
     "metadata": {},
     "output_type": "execute_result"
    }
   ],
   "source": [
    "pirineo_aragones = pd.DataFrame([estaciones,KM,nieve,estado1])\n",
    "pirineo_aragones = pirineo_aragones.transpose()\n",
    "pirineo_aragones.rename(columns = {0:'estacion',1:'KM', 2:'Nieve',3:'Estado'}, inplace = True)\n",
    "pirineo_aragones"
   ]
  },
  {
   "cell_type": "code",
   "execution_count": 10,
   "id": "567e9540",
   "metadata": {},
   "outputs": [
    {
     "data": {
      "text/plain": [
       "5"
      ]
     },
     "execution_count": 10,
     "metadata": {},
     "output_type": "execute_result"
    }
   ],
   "source": [
    "KM = []\n",
    "for i in km:\n",
    "    i = i.split('\\n')\n",
    "    KM.append(i[0])\n",
    "len(KM)"
   ]
  },
  {
   "cell_type": "code",
   "execution_count": null,
   "id": "babf6f4d",
   "metadata": {},
   "outputs": [],
   "source": [
    "driver = webdriver.Chrome(ChromeDriverManager().install(), options = opciones)\n",
    "url = 'https://www.infonieve.es/estaciones-esqui/pais/espana/'\n",
    "driver.get(url)\n",
    "driver.implicitly_wait(2)\n",
    "estaciones = []\n",
    "km = []\n",
    "nieve = []\n",
    "estado2 = []\n",
    "for i in range(1,8):\n",
    "    estaciones.append(driver.find_element_by_xpath(f'//*[@id=\"contenido\"]/div[2]/div/div[6]/div[2]/div[{i}]/a[1]/span[1]').text)\n",
    "    driver.implicitly_wait(2)\n",
    "    print('name done')\n",
    "    km.append(driver.find_element_by_xpath(f'//*[@id=\"contenido\"]/div[2]/div/div[6]/div[2]/div[{i}]/a[3]').text)\n",
    "    driver.implicitly_wait(2)\n",
    "    print('km done')\n",
    "    nieve.append(driver.find_element_by_xpath(f'//*[@id=\"contenido\"]/div[2]/div/div[6]/div[2]/div[{i}]/a[5]').text)\n",
    "    print('nieve done')\n",
    "    estado2.append(driver.find_element_by_xpath(f'//*[@id=\"contenido\"]/div[2]/div/div[6]/div[2]/div[{i}]/a[2]/span/span[1]').text)\n",
    "    print('estado done')\n",
    "    \n",
    "    "
   ]
  },
  {
   "cell_type": "code",
   "execution_count": null,
   "id": "dc38f1f0",
   "metadata": {},
   "outputs": [],
   "source": [
    "KM = []\n",
    "for i in km:\n",
    "    i = i.split('\\n')\n",
    "    KM.append(i[0])\n",
    "len(KM)"
   ]
  },
  {
   "cell_type": "code",
   "execution_count": null,
   "id": "16bdefc0",
   "metadata": {},
   "outputs": [],
   "source": [
    "cordillera_cantabrica = pd.DataFrame([estaciones,KM,nieve,estado2])\n",
    "cordillera_cantabrica = cordillera_cantabrica.transpose()\n",
    "cordillera_cantabrica.rename(columns = {0:'estacion',1:'KM', 2:'Nieve',3:'Estado'}, inplace = True)\n",
    "cordillera_cantabrica"
   ]
  },
  {
   "cell_type": "code",
   "execution_count": null,
   "id": "40b8060b",
   "metadata": {},
   "outputs": [],
   "source": [
    "driver = webdriver.Chrome(ChromeDriverManager().install(), options = opciones)\n",
    "url = 'https://www.infonieve.es/estaciones-esqui/pais/espana/'\n",
    "driver.get(url)\n",
    "driver.implicitly_wait(2)\n",
    "estaciones = []\n",
    "km = []\n",
    "nieve = []\n",
    "estado3 = []\n",
    "for i in range(1,5):\n",
    "    estaciones.append(driver.find_element_by_xpath(f'//*[@id=\"contenido\"]/div[2]/div/div[8]/div[2]/div[{i}]/a[1]/span[1]/strong').text)\n",
    "    driver.implicitly_wait(2)\n",
    "    print('name done')\n",
    "    km.append(driver.find_element_by_xpath(f'//*[@id=\"contenido\"]/div[2]/div/div[8]/div[2]/div[{i}]/a[3]').text)\n",
    "    driver.implicitly_wait(2)\n",
    "    print('km done')\n",
    "    nieve.append(driver.find_element_by_xpath(f'//*[@id=\"contenido\"]/div[2]/div/div[8]/div[2]/div[{i}]/a[5]').text)\n",
    "    print('nieve done')\n",
    "    estado3.append(driver.find_element_by_xpath(f'//*[@id=\"contenido\"]/div[2]/div/div[8]/div[2]/div[{i}]/a[2]/span/span[1]').text)\n",
    "    print('estado done')"
   ]
  },
  {
   "cell_type": "code",
   "execution_count": null,
   "id": "9667e560",
   "metadata": {},
   "outputs": [],
   "source": [
    "KM = []\n",
    "for i in km:\n",
    "    i = i.split('\\n')\n",
    "    KM.append(i[0])\n",
    "len(KM)"
   ]
  },
  {
   "cell_type": "code",
   "execution_count": null,
   "id": "f2cd3b54",
   "metadata": {},
   "outputs": [],
   "source": [
    "sistema_iberico = pd.DataFrame([estaciones,KM,nieve,estado3])\n",
    "sistema_iberico = sistema_iberico.transpose()\n",
    "sistema_iberico.rename(columns = {0:'estacion',1:'KM', 2:'Nieve',3:'Estado'}, inplace = True)\n",
    "sistema_iberico"
   ]
  },
  {
   "cell_type": "code",
   "execution_count": null,
   "id": "42035032",
   "metadata": {},
   "outputs": [],
   "source": [
    "driver = webdriver.Chrome(ChromeDriverManager().install(), options = opciones)\n",
    "url = 'https://www.infonieve.es/estaciones-esqui/pais/espana/'\n",
    "driver.get(url)\n",
    "driver.implicitly_wait(2)\n",
    "estaciones = []\n",
    "km = []\n",
    "nieve = []\n",
    "estado4 = []\n",
    "for i in range(1,5):\n",
    "    estaciones.append(driver.find_element_by_xpath(f'//*[@id=\"contenido\"]/div[2]/div/div[10]/div[2]/div[{i}]/a[1]/span[1]/strong').text)\n",
    "    driver.implicitly_wait(2)\n",
    "    print('name done')\n",
    "    km.append(driver.find_element_by_xpath(f'//*[@id=\"contenido\"]/div[2]/div/div[10]/div[2]/div[{i}]/a[3]').text)\n",
    "    driver.implicitly_wait(2)\n",
    "    print('km done')\n",
    "    nieve.append(driver.find_element_by_xpath(f'//*[@id=\"contenido\"]/div[2]/div/div[10]/div[2]/div[{i}]/a[5]').text)\n",
    "    print('nieve done')\n",
    "    estado4.append(driver.find_element_by_xpath(f'//*[@id=\"contenido\"]/div[2]/div/div[10]/div[2]/div[{i}]/a[2]/span/span[1]').text)\n",
    "    print('estado done')"
   ]
  },
  {
   "cell_type": "code",
   "execution_count": null,
   "id": "f3a9718f",
   "metadata": {},
   "outputs": [],
   "source": [
    "KM = []\n",
    "for i in km:\n",
    "    i = i.split('\\n')\n",
    "    KM.append(i[0])\n",
    "len(KM)"
   ]
  },
  {
   "cell_type": "code",
   "execution_count": null,
   "id": "e5148b1e",
   "metadata": {},
   "outputs": [],
   "source": [
    "sistema_central = pd.DataFrame([estaciones,KM,nieve,estado4])\n",
    "sistema_central = sistema_central.transpose()\n",
    "sistema_central.rename(columns = {0:'estacion',1:'KM', 2:'Nieve',3:'Estado'}, inplace = True)\n",
    "sistema_central"
   ]
  },
  {
   "cell_type": "code",
   "execution_count": null,
   "id": "f112244f",
   "metadata": {},
   "outputs": [],
   "source": [
    "driver = webdriver.Chrome(ChromeDriverManager().install(), options = opciones)\n",
    "url = 'https://www.infonieve.es/estaciones-esqui/pais/espana/'\n",
    "driver.get(url)\n",
    "driver.implicitly_wait(2)\n",
    "estaciones = []\n",
    "km = []\n",
    "nieve = []\n",
    "estado = []\n",
    "estaciones.append(driver.find_element_by_xpath(f'//*[@id=\"contenido\"]/div[2]/div/div[12]/div[2]/div/a[1]/span[1]/strong').text)\n",
    "driver.implicitly_wait(2)\n",
    "print('name done')\n",
    "km.append(driver.find_element_by_xpath(f'//*[@id=\"contenido\"]/div[2]/div/div[12]/div[2]/div/a[3]').text)\n",
    "driver.implicitly_wait(2)\n",
    "print('km done')\n",
    "nieve.append(driver.find_element_by_xpath(f'//*[@id=\"contenido\"]/div[2]/div/div[12]/div[2]/div/a[5]').text)\n",
    "print('nieve done')\n",
    "estado.append(driver.find_element_by_xpath(f'//*[@id=\"contenido\"]/div[2]/div/div[12]/div[2]/div/a[2]/span/span[1]').text)\n",
    "print('estado done')"
   ]
  },
  {
   "cell_type": "code",
   "execution_count": null,
   "id": "8ff013a1",
   "metadata": {},
   "outputs": [],
   "source": [
    "estado"
   ]
  },
  {
   "cell_type": "code",
   "execution_count": null,
   "id": "251a2ed3",
   "metadata": {},
   "outputs": [],
   "source": [
    "KM = []\n",
    "for i in km:\n",
    "    i = i.split('\\n')\n",
    "    KM.append(i[0])\n",
    "len(KM)"
   ]
  },
  {
   "cell_type": "code",
   "execution_count": null,
   "id": "25caceb1",
   "metadata": {},
   "outputs": [],
   "source": [
    "sistema_penibetico = pd.DataFrame([estaciones,KM,nieve,estado])\n",
    "sistema_penibetico = sistema_penibetico.transpose()\n",
    "sistema_penibetico.rename(columns = {0:'estacion',1:'KM', 2:'Nieve',3:'Estado'}, inplace = True)\n",
    "sistema_penibetico"
   ]
  },
  {
   "cell_type": "code",
   "execution_count": null,
   "id": "a3e53f8f",
   "metadata": {},
   "outputs": [],
   "source": [
    "df1 = pd.concat([cordillera_cantabrica, sistema_central])\n",
    "df = pd.concat([sistema_iberico,sistema_penibetico,pirineo_aragones,pirineo_catalan,cordillera_cantabrica,sistema_central])\n",
    "df"
   ]
  },
  {
   "cell_type": "code",
   "execution_count": null,
   "id": "01ae2820",
   "metadata": {},
   "outputs": [],
   "source": [
    "nombre = df.estacion\n",
    "nuevo = []\n",
    "for i in nombre:\n",
    "    nuevo.append(i.replace(' ','-'))"
   ]
  },
  {
   "cell_type": "code",
   "execution_count": null,
   "id": "5bd0c9df",
   "metadata": {},
   "outputs": [],
   "source": [
    "driver = webdriver.Chrome(ChromeDriverManager().install(), options = opciones)\n",
    "n_pistas = []\n",
    "remontes = []\n",
    "pistas_rojas = []\n",
    "pistas_verdes = []\n",
    "pistas_negras = []\n",
    "pistas_azules = []\n",
    "precio_adultos = []\n",
    "snowpark = []\n",
    "for i in nuevo:\n",
    "    url = f'https://www.infonieve.es/estacion-esqui/{i}/ficha-tecnica/'\n",
    "    driver.implicitly_wait(4)\n",
    "    driver.get(url)\n",
    "    n_pistas.append(driver.find_element_by_xpath('//*[@id=\"contenido\"]/div[2]/div/div[6]/div/div[1]/div[2]').text)\n",
    "    remontes.append(driver.find_element_by_xpath('//*[@id=\"contenido\"]/div[2]/div/div[9]/div/div[1]/div[2]').text)\n",
    "    pistas_verdes.append(driver.find_element_by_xpath('//*[@id=\"contenido\"]/div[2]/div/div[6]/div/div[2]/div[2]').text)\n",
    "    pistas_rojas.append(driver.find_element_by_xpath('//*[@id=\"contenido\"]/div[2]/div/div[6]/div/div[3]/div[2]').text)\n",
    "    pistas_negras.append(driver.find_element_by_xpath('//*[@id=\"contenido\"]/div[2]/div/div[6]/div/div[3]/div[4]').text)\n",
    "    pistas_azules.append(driver.find_element_by_xpath('//*[@id=\"contenido\"]/div[2]/div/div[6]/div/div[2]/div[4]').text)\n",
    "    precio_adultos.append(driver.find_element_by_xpath('//*[@id=\"contenido\"]/div[2]/div/div[15]/div/div/div[1]/div[1]/div/div[2]/div[2]').text)\n",
    "    snowpark.append(driver.find_element_by_xpath('//*[@id=\"contenido\"]/div[2]/div/div[12]/div/div[3]/div[2]').text)\n",
    "    "
   ]
  },
  {
   "cell_type": "code",
   "execution_count": null,
   "id": "44139425",
   "metadata": {},
   "outputs": [],
   "source": [
    "df74 = pd.DataFrame([pistas_azules,pistas_negras,pistas_rojas,pistas_verdes,precio_adultos,n_pistas,remontes,snowpark])\n"
   ]
  },
  {
   "cell_type": "code",
   "execution_count": null,
   "id": "89376e92",
   "metadata": {},
   "outputs": [],
   "source": [
    "df7 = df74.transpose()\n",
    "df7"
   ]
  },
  {
   "cell_type": "code",
   "execution_count": null,
   "id": "6fe2e616",
   "metadata": {},
   "outputs": [],
   "source": [
    "df7.columns"
   ]
  },
  {
   "cell_type": "code",
   "execution_count": null,
   "id": "14181247",
   "metadata": {},
   "outputs": [],
   "source": [
    "df7.rename(columns = {0:'pistas_azules',1:'pistas_negras',2:'pistas_rojas',3:'pistas_verdes',4:'precio_adultos',5:'n_pistas',6:'remontes',7:'Snowpark'}, inplace = True)\n"
   ]
  },
  {
   "cell_type": "code",
   "execution_count": null,
   "id": "83618514",
   "metadata": {},
   "outputs": [],
   "source": [
    "df.to_csv('data/dfestaciones.csv')"
   ]
  },
  {
   "cell_type": "code",
   "execution_count": null,
   "id": "2b6bd2b5",
   "metadata": {},
   "outputs": [],
   "source": [
    "df7.to_csv('data/fichatecnica.csv')"
   ]
  },
  {
   "cell_type": "code",
   "execution_count": null,
   "id": "2dc8ec67",
   "metadata": {},
   "outputs": [],
   "source": [
    "data = pd.concat([df, df7])"
   ]
  },
  {
   "cell_type": "code",
   "execution_count": null,
   "id": "4728453d",
   "metadata": {},
   "outputs": [],
   "source": [
    "data # tengo que meter en df7 los nombres de las estaciones asi puedo unir las dos tablas sin quede como el culo."
   ]
  },
  {
   "cell_type": "code",
   "execution_count": null,
   "id": "9df858b6",
   "metadata": {},
   "outputs": [],
   "source": []
  },
  {
   "cell_type": "code",
   "execution_count": null,
   "id": "64383c05",
   "metadata": {},
   "outputs": [],
   "source": []
  },
  {
   "cell_type": "code",
   "execution_count": null,
   "id": "4adad24d",
   "metadata": {},
   "outputs": [],
   "source": []
  },
  {
   "cell_type": "code",
   "execution_count": null,
   "id": "dbd8fe6c",
   "metadata": {},
   "outputs": [],
   "source": []
  },
  {
   "cell_type": "code",
   "execution_count": null,
   "id": "63815093",
   "metadata": {},
   "outputs": [],
   "source": []
  },
  {
   "cell_type": "code",
   "execution_count": null,
   "id": "e59e0cdf",
   "metadata": {},
   "outputs": [],
   "source": []
  },
  {
   "cell_type": "code",
   "execution_count": null,
   "id": "18d9760e",
   "metadata": {},
   "outputs": [],
   "source": []
  },
  {
   "cell_type": "code",
   "execution_count": null,
   "id": "4763f02c",
   "metadata": {},
   "outputs": [],
   "source": [
    "pirineo_catalan_falso = tabla1[0].split('/')"
   ]
  },
  {
   "cell_type": "code",
   "execution_count": null,
   "id": "62223771",
   "metadata": {},
   "outputs": [],
   "source": [
    "nombres estacion\n",
    "//*[@id=\"contenido\"]/div[2]/div/div[2]/div[2]/div[3]/a[1]/span[1]\n",
    "//*[@id=\"contenido\"]/div[2]/div/div[2]/div[2]/div[2]/a[1]/span[1]\n",
    "//*[@id=\"contenido\"]/div[2]/div/div[4]/div[2]/div[1]/a[1]/span[1]\n",
    "//*[@id=\"contenido\"]/div[2]/div/div[4]/div[2]/div[2]/a[1]/span[1]\n",
    "//*[@id=\"contenido\"]/div[2]/div/div[6]/div[2]/div[1]/a[1]/span[1]\n",
    "//*[@id=\"contenido\"]/div[2]/div/div[6]/div[2]/div[6]/a[1]/span[1]\n",
    "//*[@id=\"contenido\"]/div[2]/div/div[8]/div[2]/div[1]/a[1]/span[1]/strong\n",
    "//*[@id=\"contenido\"]/div[2]/div/div[10]/div[2]/div[1]/a[1]/span[1]/strong\n",
    "\n",
    "km\n",
    "//*[@id=\"contenido\"]/div[2]/div/div[2]/div[2]/div[1]/a[3]\n",
    "//*[@id=\"contenido\"]/div[2]/div/div[2]/div[2]/div[2]/a[3]\n",
    "//*[@id=\"contenido\"]/div[2]/div/div[4]/div[2]/div[1]/a[3]\n",
    "//*[@id=\"contenido\"]/div[2]/div/div[6]/div[2]/div[1]/a[3]\n",
    "//*[@id=\"contenido\"]/div[2]/div/div[8]/div[2]/div[1]/a[3]\n",
    "//*[@id=\"contenido\"]/div[2]/div/div[10]/div[2]/div[1]/a[3]\n",
    "\n",
    "nieve\n",
    "//*[@id=\"contenido\"]/div[2]/div/div[2]/div[2]/div[1]/a[5]\n",
    "//*[@id=\"contenido\"]/div[2]/div/div[2]/div[2]/div[3]/a[5]\n",
    "//*[@id=\"contenido\"]/div[2]/div/div[2]/div[2]/div[7]/a[5]\n",
    "//*[@id=\"contenido\"]/div[2]/div/div[4]/div[2]/div[1]/a[5]\n",
    "//*[@id=\"contenido\"]/div[2]/div/div[6]/div[2]/div[1]/a[5]\n",
    "//*[@id=\"contenido\"]/div[2]/div/div[8]/div[2]/div[1]/a[5]\n",
    "\n",
    "estado\n",
    "//*[@id=\"contenido\"]/div[2]/div/div[2]/div[2]/div[1]/a[2]/span/span[1]\n",
    "//*[@id=\"contenido\"]/div[2]/div/div[2]/div[2]/div[2]/a[2]/span/span[1]\n",
    "//*[@id=\"contenido\"]/div[2]/div/div[4]/div[2]/div[1]/a[2]/span/span[1]"
   ]
  }
 ],
 "metadata": {
  "kernelspec": {
   "display_name": "Python 3",
   "language": "python",
   "name": "python3"
  },
  "language_info": {
   "codemirror_mode": {
    "name": "ipython",
    "version": 3
   },
   "file_extension": ".py",
   "mimetype": "text/x-python",
   "name": "python",
   "nbconvert_exporter": "python",
   "pygments_lexer": "ipython3",
   "version": "3.8.8"
  }
 },
 "nbformat": 4,
 "nbformat_minor": 5
}
