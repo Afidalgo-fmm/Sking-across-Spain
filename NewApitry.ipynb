{
 "cells": [
  {
   "cell_type": "code",
   "execution_count": 1,
   "id": "61e94c14",
   "metadata": {},
   "outputs": [],
   "source": [
    "import googlemaps\n",
    "import time \n",
    "import os\n",
    "from dotenv import load_dotenv\n",
    "import pandas as pd\n",
    "from pandas import json_normalize\n",
    "import requests\n",
    "from urllib.parse import urlencode\n"
   ]
  },
  {
   "cell_type": "code",
   "execution_count": 2,
   "id": "f6ed9249",
   "metadata": {},
   "outputs": [
    {
     "data": {
      "text/plain": [
       "True"
      ]
     },
     "execution_count": 2,
     "metadata": {},
     "output_type": "execute_result"
    }
   ],
   "source": [
    "load_dotenv()"
   ]
  },
  {
   "cell_type": "code",
   "execution_count": 5,
   "id": "1e846b23",
   "metadata": {},
   "outputs": [],
   "source": [
    "token = os.getenv('ApiGooglekey')"
   ]
  },
  {
   "cell_type": "code",
   "execution_count": 12,
   "id": "46365250",
   "metadata": {},
   "outputs": [],
   "source": [
    "cliente = googlemaps.Client(key = token)\n"
   ]
  },
  {
   "cell_type": "code",
   "execution_count": 23,
   "id": "7b5dbb46",
   "metadata": {},
   "outputs": [],
   "source": [
    "respuesta = cliente.places_nearby(location = '40.11224741452416,-1.0326308232622217', radius= 4000, open_now = False, type = 'restaurant')\n"
   ]
  },
  {
   "cell_type": "code",
   "execution_count": 63,
   "id": "dbad0633",
   "metadata": {},
   "outputs": [],
   "source": [
    "def restaurantfinder(lat, long):\n",
    "    respuesta = cliente.places_nearby(location = f'{lat},{long}', radius= 4000, open_now = False, type = 'restaurant')\n",
    "    return respuesta[\"results\"][\"geometry\"][\"location\"]"
   ]
  },
  {
   "cell_type": "code",
   "execution_count": 64,
   "id": "3815870d",
   "metadata": {},
   "outputs": [],
   "source": [
    "#cord[0]\n",
    "#restaurantfinder(40.11224741452416, -1.0326308232622217)\n",
    "#df.assign(x=lambda df: df.coord.map(lambda c: c[0]))\n",
    "#df.assign(y=lambda df: df.coord.map(lambda c: c[1]))"
   ]
  },
  {
   "cell_type": "code",
   "execution_count": 65,
   "id": "323084ec",
   "metadata": {},
   "outputs": [
    {
     "ename": "TypeError",
     "evalue": "list indices must be integers or slices, not str",
     "output_type": "error",
     "traceback": [
      "\u001b[0;31m---------------------------------------------------------------------------\u001b[0m",
      "\u001b[0;31mTypeError\u001b[0m                                 Traceback (most recent call last)",
      "\u001b[0;32m<ipython-input-65-880e8c72d5de>\u001b[0m in \u001b[0;36m<module>\u001b[0;34m\u001b[0m\n\u001b[1;32m      5\u001b[0m \u001b[0mrespuesta\u001b[0m \u001b[0;34m=\u001b[0m \u001b[0;34m[\u001b[0m\u001b[0;34m]\u001b[0m\u001b[0;34m\u001b[0m\u001b[0;34m\u001b[0m\u001b[0m\n\u001b[1;32m      6\u001b[0m \u001b[0;32mfor\u001b[0m \u001b[0mi\u001b[0m \u001b[0;32min\u001b[0m \u001b[0mcord\u001b[0m\u001b[0;34m:\u001b[0m\u001b[0;34m\u001b[0m\u001b[0;34m\u001b[0m\u001b[0m\n\u001b[0;32m----> 7\u001b[0;31m     \u001b[0mrespuesta\u001b[0m\u001b[0;34m.\u001b[0m\u001b[0mappend\u001b[0m\u001b[0;34m(\u001b[0m\u001b[0mrestaurantfinder\u001b[0m\u001b[0;34m(\u001b[0m\u001b[0mi\u001b[0m\u001b[0;34m[\u001b[0m\u001b[0;36m0\u001b[0m\u001b[0;34m]\u001b[0m\u001b[0;34m,\u001b[0m\u001b[0mi\u001b[0m\u001b[0;34m[\u001b[0m\u001b[0;36m1\u001b[0m\u001b[0;34m]\u001b[0m\u001b[0;34m)\u001b[0m\u001b[0;34m)\u001b[0m\u001b[0;34m\u001b[0m\u001b[0;34m\u001b[0m\u001b[0m\n\u001b[0m",
      "\u001b[0;32m<ipython-input-63-dc1e89337cea>\u001b[0m in \u001b[0;36mrestaurantfinder\u001b[0;34m(lat, long)\u001b[0m\n\u001b[1;32m      1\u001b[0m \u001b[0;32mdef\u001b[0m \u001b[0mrestaurantfinder\u001b[0m\u001b[0;34m(\u001b[0m\u001b[0mlat\u001b[0m\u001b[0;34m,\u001b[0m \u001b[0mlong\u001b[0m\u001b[0;34m)\u001b[0m\u001b[0;34m:\u001b[0m\u001b[0;34m\u001b[0m\u001b[0;34m\u001b[0m\u001b[0m\n\u001b[1;32m      2\u001b[0m     \u001b[0mrespuesta\u001b[0m \u001b[0;34m=\u001b[0m \u001b[0mcliente\u001b[0m\u001b[0;34m.\u001b[0m\u001b[0mplaces_nearby\u001b[0m\u001b[0;34m(\u001b[0m\u001b[0mlocation\u001b[0m \u001b[0;34m=\u001b[0m \u001b[0;34mf'{lat},{long}'\u001b[0m\u001b[0;34m,\u001b[0m \u001b[0mradius\u001b[0m\u001b[0;34m=\u001b[0m \u001b[0;36m4000\u001b[0m\u001b[0;34m,\u001b[0m \u001b[0mopen_now\u001b[0m \u001b[0;34m=\u001b[0m \u001b[0;32mFalse\u001b[0m\u001b[0;34m,\u001b[0m \u001b[0mtype\u001b[0m \u001b[0;34m=\u001b[0m \u001b[0;34m'restaurant'\u001b[0m\u001b[0;34m)\u001b[0m\u001b[0;34m\u001b[0m\u001b[0;34m\u001b[0m\u001b[0m\n\u001b[0;32m----> 3\u001b[0;31m     \u001b[0;32mreturn\u001b[0m \u001b[0mrespuesta\u001b[0m\u001b[0;34m[\u001b[0m\u001b[0;34m\"results\"\u001b[0m\u001b[0;34m]\u001b[0m\u001b[0;34m[\u001b[0m\u001b[0;34m\"geometry\"\u001b[0m\u001b[0;34m]\u001b[0m\u001b[0;34m[\u001b[0m\u001b[0;34m\"location\"\u001b[0m\u001b[0;34m]\u001b[0m\u001b[0;34m\u001b[0m\u001b[0;34m\u001b[0m\u001b[0m\n\u001b[0m",
      "\u001b[0;31mTypeError\u001b[0m: list indices must be integers or slices, not str"
     ]
    }
   ],
   "source": [
    "nombres = data.estacion\n",
    "lat = data.lat\n",
    "long = data.long\n",
    "cord = list(zip(lat,long))\n",
    "respuesta = []\n",
    "for i in cord:\n",
    "    respuesta.append(restaurantfinder(i[0],i[1]))"
   ]
  },
  {
   "cell_type": "code",
   "execution_count": 24,
   "id": "1d6d35dd",
   "metadata": {},
   "outputs": [
    {
     "data": {
      "text/plain": [
       "{'html_attributions': [],\n",
       " 'results': [{'business_status': 'OPERATIONAL',\n",
       "   'geometry': {'location': {'lat': 40.1098552, 'lng': -1.029947},\n",
       "    'viewport': {'northeast': {'lat': 40.1112041802915,\n",
       "      'lng': -1.028598019708498},\n",
       "     'southwest': {'lat': 40.1085062197085, 'lng': -1.031295980291502}}},\n",
       "   'icon': 'https://maps.gstatic.com/mapfiles/place_api/icons/v1/png_71/restaurant-71.png',\n",
       "   'icon_background_color': '#FF9E67',\n",
       "   'icon_mask_base_uri': 'https://maps.gstatic.com/mapfiles/place_api/icons/v2/restaurant_pinlet',\n",
       "   'name': 'el portillo BURGERBAR',\n",
       "   'place_id': 'ChIJJxZSeE8bXg0R8A9O65HgDbM',\n",
       "   'plus_code': {'compound_code': '4X5C+W2 Camarena de la Sierra, Spain',\n",
       "    'global_code': '8CGW4X5C+W2'},\n",
       "   'rating': 5,\n",
       "   'reference': 'ChIJJxZSeE8bXg0R8A9O65HgDbM',\n",
       "   'scope': 'GOOGLE',\n",
       "   'types': ['restaurant', 'food', 'point_of_interest', 'establishment'],\n",
       "   'user_ratings_total': 1,\n",
       "   'vicinity': 'Camarena de la Sierra, Unnamed Road, 44459'}],\n",
       " 'status': 'OK'}"
      ]
     },
     "execution_count": 24,
     "metadata": {},
     "output_type": "execute_result"
    }
   ],
   "source": [
    "respuesta "
   ]
  },
  {
   "cell_type": "code",
   "execution_count": 25,
   "id": "0168f8dd",
   "metadata": {},
   "outputs": [],
   "source": [
    "data  = pd.read_csv('data/Datos.csv')"
   ]
  },
  {
   "cell_type": "code",
   "execution_count": 26,
   "id": "084d4518",
   "metadata": {},
   "outputs": [
    {
     "data": {
      "text/html": [
       "<div>\n",
       "<style scoped>\n",
       "    .dataframe tbody tr th:only-of-type {\n",
       "        vertical-align: middle;\n",
       "    }\n",
       "\n",
       "    .dataframe tbody tr th {\n",
       "        vertical-align: top;\n",
       "    }\n",
       "\n",
       "    .dataframe thead th {\n",
       "        text-align: right;\n",
       "    }\n",
       "</style>\n",
       "<table border=\"1\" class=\"dataframe\">\n",
       "  <thead>\n",
       "    <tr style=\"text-align: right;\">\n",
       "      <th></th>\n",
       "      <th>Unnamed: 0</th>\n",
       "      <th>estacion</th>\n",
       "      <th>Estado_nieve</th>\n",
       "      <th>Estado</th>\n",
       "      <th>pistas_azules</th>\n",
       "      <th>pistas_negras</th>\n",
       "      <th>pistas_rojas</th>\n",
       "      <th>pistas_verdes</th>\n",
       "      <th>n_pistas</th>\n",
       "      <th>remontes</th>\n",
       "      <th>Snowpark</th>\n",
       "      <th>KM disponibles</th>\n",
       "      <th>KM totales</th>\n",
       "      <th>precio_adultos €</th>\n",
       "      <th>Espesor_nieve cm</th>\n",
       "      <th>lat</th>\n",
       "      <th>long</th>\n",
       "    </tr>\n",
       "  </thead>\n",
       "  <tbody>\n",
       "    <tr>\n",
       "      <th>0</th>\n",
       "      <td>0</td>\n",
       "      <td>Javalambre</td>\n",
       "      <td>Dura</td>\n",
       "      <td>Abierta</td>\n",
       "      <td>9</td>\n",
       "      <td>0.0</td>\n",
       "      <td>1.0</td>\n",
       "      <td>5</td>\n",
       "      <td>18</td>\n",
       "      <td>9</td>\n",
       "      <td>1</td>\n",
       "      <td>4.00</td>\n",
       "      <td>15.00</td>\n",
       "      <td>36.0</td>\n",
       "      <td>110.0</td>\n",
       "      <td>40.112247</td>\n",
       "      <td>-1.032631</td>\n",
       "    </tr>\n",
       "    <tr>\n",
       "      <th>1</th>\n",
       "      <td>1</td>\n",
       "      <td>Punto de Nieve Santa Inés</td>\n",
       "      <td>Polvo</td>\n",
       "      <td>Abierta</td>\n",
       "      <td>1</td>\n",
       "      <td>0.0</td>\n",
       "      <td>0.0</td>\n",
       "      <td>1</td>\n",
       "      <td>2</td>\n",
       "      <td>2</td>\n",
       "      <td>1</td>\n",
       "      <td>1.80</td>\n",
       "      <td>1.80</td>\n",
       "      <td>20.0</td>\n",
       "      <td>90.0</td>\n",
       "      <td>42.038054</td>\n",
       "      <td>-2.785251</td>\n",
       "    </tr>\n",
       "    <tr>\n",
       "      <th>2</th>\n",
       "      <td>2</td>\n",
       "      <td>Valdelinares</td>\n",
       "      <td>Polvo/Dura</td>\n",
       "      <td>Abierta</td>\n",
       "      <td>4</td>\n",
       "      <td>0.0</td>\n",
       "      <td>4.0</td>\n",
       "      <td>6</td>\n",
       "      <td>14</td>\n",
       "      <td>12</td>\n",
       "      <td>1</td>\n",
       "      <td>15.00</td>\n",
       "      <td>17.40</td>\n",
       "      <td>37.5</td>\n",
       "      <td>110.0</td>\n",
       "      <td>40.379822</td>\n",
       "      <td>-0.632447</td>\n",
       "    </tr>\n",
       "    <tr>\n",
       "      <th>3</th>\n",
       "      <td>3</td>\n",
       "      <td>Valdezcaray</td>\n",
       "      <td>desconocido</td>\n",
       "      <td>Abierta</td>\n",
       "      <td>6</td>\n",
       "      <td>2.0</td>\n",
       "      <td>10.0</td>\n",
       "      <td>6</td>\n",
       "      <td>26</td>\n",
       "      <td>9</td>\n",
       "      <td>0</td>\n",
       "      <td>9.55</td>\n",
       "      <td>22.35</td>\n",
       "      <td>28.5</td>\n",
       "      <td>110.0</td>\n",
       "      <td>42.257502</td>\n",
       "      <td>-2.970729</td>\n",
       "    </tr>\n",
       "    <tr>\n",
       "      <th>4</th>\n",
       "      <td>4</td>\n",
       "      <td>Sierra Nevada</td>\n",
       "      <td>Húmeda</td>\n",
       "      <td>Abierta</td>\n",
       "      <td>49</td>\n",
       "      <td>7.0</td>\n",
       "      <td>54.0</td>\n",
       "      <td>18</td>\n",
       "      <td>135</td>\n",
       "      <td>21</td>\n",
       "      <td>1</td>\n",
       "      <td>9.84</td>\n",
       "      <td>111.40</td>\n",
       "      <td>54.0</td>\n",
       "      <td>40.0</td>\n",
       "      <td>37.092935</td>\n",
       "      <td>-3.399549</td>\n",
       "    </tr>\n",
       "  </tbody>\n",
       "</table>\n",
       "</div>"
      ],
      "text/plain": [
       "   Unnamed: 0                   estacion Estado_nieve   Estado  pistas_azules  \\\n",
       "0           0                 Javalambre         Dura  Abierta              9   \n",
       "1           1  Punto de Nieve Santa Inés        Polvo  Abierta              1   \n",
       "2           2               Valdelinares   Polvo/Dura  Abierta              4   \n",
       "3           3                Valdezcaray  desconocido  Abierta              6   \n",
       "4           4              Sierra Nevada       Húmeda  Abierta             49   \n",
       "\n",
       "   pistas_negras  pistas_rojas  pistas_verdes  n_pistas  remontes  Snowpark  \\\n",
       "0            0.0           1.0              5        18         9         1   \n",
       "1            0.0           0.0              1         2         2         1   \n",
       "2            0.0           4.0              6        14        12         1   \n",
       "3            2.0          10.0              6        26         9         0   \n",
       "4            7.0          54.0             18       135        21         1   \n",
       "\n",
       "   KM disponibles  KM totales  precio_adultos €  Espesor_nieve cm        lat  \\\n",
       "0            4.00       15.00              36.0             110.0  40.112247   \n",
       "1            1.80        1.80              20.0              90.0  42.038054   \n",
       "2           15.00       17.40              37.5             110.0  40.379822   \n",
       "3            9.55       22.35              28.5             110.0  42.257502   \n",
       "4            9.84      111.40              54.0              40.0  37.092935   \n",
       "\n",
       "       long  \n",
       "0 -1.032631  \n",
       "1 -2.785251  \n",
       "2 -0.632447  \n",
       "3 -2.970729  \n",
       "4 -3.399549  "
      ]
     },
     "execution_count": 26,
     "metadata": {},
     "output_type": "execute_result"
    }
   ],
   "source": [
    "data.head()"
   ]
  },
  {
   "cell_type": "code",
   "execution_count": null,
   "id": "25e0dd2c",
   "metadata": {},
   "outputs": [],
   "source": []
  }
 ],
 "metadata": {
  "kernelspec": {
   "display_name": "Python 3",
   "language": "python",
   "name": "python3"
  },
  "language_info": {
   "codemirror_mode": {
    "name": "ipython",
    "version": 3
   },
   "file_extension": ".py",
   "mimetype": "text/x-python",
   "name": "python",
   "nbconvert_exporter": "python",
   "pygments_lexer": "ipython3",
   "version": "3.8.8"
  }
 },
 "nbformat": 4,
 "nbformat_minor": 5
}
